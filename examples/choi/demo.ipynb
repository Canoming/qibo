{
 "cells": [
  {
   "cell_type": "code",
   "execution_count": 1,
   "metadata": {},
   "outputs": [],
   "source": [
    "from qibo.quantum_info.quantum_network import QuantumNetwork\n",
    "\n",
    "from qibo.gates import DepolarizingChannel\n",
    "from qibo.backends import NumpyBackend\n",
    "from qibo.quantum_info import random_density_matrix, random_unitary\n",
    "\n",
    "import numpy as np\n",
    "\n",
    "backend = NumpyBackend()"
   ]
  },
  {
   "cell_type": "markdown",
   "metadata": {},
   "source": [
    "## Quantum Network\n",
    "\n",
    "The `QuantumNetwork` class store the Choi operator as a tensor.\n",
    "A `QuantumNetwork` object can be"
   ]
  },
  {
   "cell_type": "markdown",
   "metadata": {},
   "source": [
    "- **A quantum state**"
   ]
  },
  {
   "cell_type": "code",
   "execution_count": 2,
   "metadata": {},
   "outputs": [
    {
     "name": "stderr",
     "output_type": "stream",
     "text": [
      "[Qibo 0.2.3|INFO|2024-01-11 22:40:24]: Using numpy backend on /CPU:0\n"
     ]
    },
    {
     "name": "stdout",
     "output_type": "stream",
     "text": [
      "A quantum state is a quantum netowrk of the form J[1 -> 2]\n"
     ]
    }
   ],
   "source": [
    "state = random_density_matrix(2)\n",
    "state_choi = QuantumNetwork(state, (1,2))\n",
    "print(f'A quantum state is a quantum netowrk of the form {state_choi}')"
   ]
  },
  {
   "cell_type": "markdown",
   "metadata": {},
   "source": [
    "Note that, the input dimension of a quantum state is 1, which is a trivial space."
   ]
  },
  {
   "cell_type": "markdown",
   "metadata": {},
   "source": [
    "- **A quantum channel**"
   ]
  },
  {
   "cell_type": "code",
   "execution_count": 3,
   "metadata": {},
   "outputs": [
    {
     "name": "stdout",
     "output_type": "stream",
     "text": [
      "A quantum channel is a quantum netowrk of the form J[2 -> 2]\n"
     ]
    }
   ],
   "source": [
    "test_ch = DepolarizingChannel(0,0.5)\n",
    "N = len(test_ch.target_qubits)\n",
    "partition = (2**N, 2**N)\n",
    "depolar_choi = QuantumNetwork(test_ch.to_choi(), partition)\n",
    "print(f'A quantum channel is a quantum netowrk of the form {depolar_choi}')"
   ]
  },
  {
   "cell_type": "markdown",
   "metadata": {},
   "source": [
    "- **An observable**"
   ]
  },
  {
   "cell_type": "code",
   "execution_count": 4,
   "metadata": {},
   "outputs": [
    {
     "name": "stdout",
     "output_type": "stream",
     "text": [
      "An observable is a quantum netowrk of the form J[2 -> 1]\n"
     ]
    }
   ],
   "source": [
    "Ob = random_density_matrix(2)*2 -0.5\n",
    "# `sys_out` is used to specify the system is an output of the network\n",
    "ob_choi = QuantumNetwork(Ob, (2,1))\n",
    "print(f'An observable is a quantum netowrk of the form {ob_choi}')"
   ]
  },
  {
   "cell_type": "markdown",
   "metadata": {},
   "source": [
    "- **A higher-order quantum operator**"
   ]
  },
  {
   "cell_type": "code",
   "execution_count": 5,
   "metadata": {},
   "outputs": [
    {
     "name": "stdout",
     "output_type": "stream",
     "text": [
      "A quantum comb is a quantum netowrk of the form J[2, 2 -> 2, 2]\n"
     ]
    }
   ],
   "source": [
    "comb = random_density_matrix(16)\n",
    "comb_choi = QuantumNetwork(comb, (2,2,2,2),sys_out=(False,True,False,True))\n",
    "print(f'A quantum comb is a quantum netowrk of the form {comb_choi}')"
   ]
  },
  {
   "cell_type": "markdown",
   "metadata": {},
   "source": [
    "### Properties\n",
    "\n",
    "The `QuantumNetwork` class may check the following basic properties:\n",
    "- `partition`: the partition of the Choi operators. For a Choi operator with partition $(n,m)$, the tensor (`np.ndarray`) is of the shape (n,m,n,m).\n",
    "- `dim`: the dimension of the Choi operator. For a Choi operator with partition $(n,m)$, the dimension is $nm$.\n",
    "- `sys_out`: a mask that indicates which system is the output system. This property is not used in the current version of the package. But it will be important for checking if the link product of two Choi operators is valid.\n",
    "\n",
    "It also has the following properties:\n",
    "- `is_hermitian`: check if the Choi operator is Hermitian. During the creation of the object, we always check if the Choi operator is Hermitian. If not, we will raise an error.\n",
    "- `is_psd`: check if the Choi operator is positive semidefinite.\n",
    "\n",
    "If the network is a quantum channel, it also has the following properties:\n",
    "- `is_causal`: check if the Choi operator is in sequential causal order. In the channel case, this is equivalent to check if it is trace-preserving. [In general](https://scholar.google.com/scholar_url?url=https://journals.aps.org/pra/abstract/10.1103/PhysRevA.80.022339&hl=en&sa=T&oi=gsb&ct=res&cd=0&d=17758644328595036857&ei=DG1sZaWhAbqR6rQPscmLsAU&scisig=AFWwaeZZhwUe_FYM2k3DsbVpchWf), this is defined by a recursive formula. The general version is not implemented yet.\n",
    "- `is_channel`: check if the Choi operator is a quantum channel. It is equivalent to `is_sdp and is_causal`.\n",
    "- `is_unital`: check if the Choi operator is unital. This can be `False` for some channels."
   ]
  },
  {
   "cell_type": "code",
   "execution_count": 6,
   "metadata": {},
   "outputs": [
    {
     "name": "stdout",
     "output_type": "stream",
     "text": [
      "Given a quatnum channel defined on 1 qubit:\n",
      "The total dimension is 4\n",
      "The partition of the systems is (2, 2), which corresponds to the shape (2, 2, 2, 2)\n",
      "The output system is set as (False, True)\n",
      "\n",
      "A quantum channel is hermitian: True\n",
      "A quantum channel is semidefinite postive: True\n",
      "\n",
      "The depolarizing channel is causal: True\n",
      "The depolarizing channel is unital: True\n"
     ]
    }
   ],
   "source": [
    "# The tensor structure of the Choi matrix\n",
    "# For a quantum Channle, the Choi matrix is a 4-tensor:\n",
    "# In qubit systems, the input and output are assuemed to be the same.\n",
    "print('Given a quatnum channel defined on 1 qubit:')\n",
    "print(f'The total dimension is {depolar_choi.dim}')\n",
    "print(f'The partition of the systems is {depolar_choi.partition}, which corresponds to the shape {depolar_choi.mat.shape}')\n",
    "print(f'The output system is set as {depolar_choi.sys_out}\\n')\n",
    "\n",
    "print(f'A quantum channel is hermitian: {depolar_choi.is_hermitian}')\n",
    "print(f'A quantum channel is semidefinite postive: {depolar_choi.is_sdp}\\n')\n",
    "\n",
    "print(f'The depolarizing channel is causal: {depolar_choi.is_causal}')\n",
    "print(f'The depolarizing channel is unital: {depolar_choi.is_unital}')"
   ]
  },
  {
   "cell_type": "markdown",
   "metadata": {},
   "source": [
    "### Methods\n",
    "\n",
    "The `QuantumNetwork` class has the following methods:\n",
    "- `__add__`: add two `QuantumNetwork` objects. The result is a `QuantumNetwork` object. The two objects must have the same partition.\n",
    "- `__matmul__`: link product of two `QuantumNetwork` objects. The result is a `QuantumNetwork` object. The output of the first network should match the input of the second network. Otherwise, use `link` method to specify the indexes.\n",
    "- `link`: link two `QuantumNetwork` objects. The result is a `QuantumNetwork` object.\n",
    "- `apply`: apply a `QuantumNetwork` object to a `np.ndarray` object. The result is a `np.ndarray` object."
   ]
  },
  {
   "cell_type": "markdown",
   "metadata": {},
   "source": [
    "First, we apply a quantum channel to a quantum state. The result is a quantum state."
   ]
  },
  {
   "cell_type": "code",
   "execution_count": 7,
   "metadata": {},
   "outputs": [
    {
     "name": "stdout",
     "output_type": "stream",
     "text": [
      "Applying the quantum channel to a quantu state (`np.ndarray`) gives\n",
      "[[0.54454104+0.j         0.1091789 -0.07840543j]\n",
      " [0.1091789 +0.07840543j 0.45545896+0.j        ]]\n",
      "The output of the link product is a quantum state: J[1 -> 2]\n",
      "The data of the output state is \n",
      "[[[[0.54454104+0.j         0.1091789 -0.07840543j]]\n",
      "\n",
      "  [[0.1091789 +0.07840543j 0.45545896+0.j        ]]]]\n"
     ]
    }
   ],
   "source": [
    "state_out = test_ch.apply_density_matrix(backend, state, 1)\n",
    "# Test `apply`` method\n",
    "choi_op = depolar_choi.apply(state)\n",
    "print(f'Applying the quantum channel to a quantu state (`np.ndarray`) gives\\n{choi_op}')\n",
    "assert np.allclose(choi_op, state_out)\n",
    "# Test `link` method, note that the default data of quantum network is a 4-tensor, so we need to faltten it to compare with the output state\n",
    "assert np.allclose(state_choi.link(depolar_choi,'ij,jk->ik').mat.flatten(), state_out.flatten())\n",
    "# Test the ``@`` operator on states\n",
    "assert np.allclose((state_choi @ depolar_choi).mat.flatten(), state_out.flatten())\n",
    "\n",
    "print(f'The output of the link product is a quantum state: {state_choi @ depolar_choi}')\n",
    "print(f'The data of the output state is \\n{(state_choi @ depolar_choi).mat}')\n"
   ]
  },
  {
   "cell_type": "markdown",
   "metadata": {},
   "source": [
    "The same method can be used for the composition of quantum channels"
   ]
  },
  {
   "cell_type": "code",
   "execution_count": 8,
   "metadata": {},
   "outputs": [],
   "source": [
    "U = random_unitary(4)\n",
    "V = random_unitary(4)\n",
    "\n",
    "ChoiU = QuantumNetwork(U, (4,4), is_pure=True)\n",
    "ChoiV = QuantumNetwork(V, (4,4), is_pure=True)\n",
    "\n",
    "# Note that the when represented in unitary, the evolution is from right to left\n",
    "ChoiUV = QuantumNetwork(V@U, (4,4), is_pure=True)\n",
    "\n",
    "assert ChoiU.is_hermitian\n",
    "assert ChoiU.is_causal\n",
    "assert ChoiU.is_unital\n",
    "assert ChoiU.is_sdp\n",
    "\n",
    "# Test `link` method for channels\n",
    "assert np.allclose(ChoiU.link(ChoiV).mat, ChoiUV.full)\n",
    "assert np.allclose(ChoiU.link(ChoiV,'ij,jk->ik').mat, ChoiUV.full)\n",
    "\n",
    "# Test the ``@`` operator\n",
    "assert np.allclose((ChoiU @ ChoiV).mat, ChoiUV.full)\n"
   ]
  },
  {
   "cell_type": "markdown",
   "metadata": {},
   "source": [
    "We can create a **mixed unitary channel** by adding two unitary channels."
   ]
  },
  {
   "cell_type": "code",
   "execution_count": 9,
   "metadata": {},
   "outputs": [
    {
     "name": "stdout",
     "output_type": "stream",
     "text": [
      "J[4 -> 4]\n",
      "The mixed unitary channel is a channel: True\n",
      "The mixed unitary channel is always unital: True\n"
     ]
    }
   ],
   "source": [
    "mix_ch = (ChoiU + ChoiV)/2\n",
    "print(mix_ch)\n",
    "\n",
    "print(f'The mixed unitary channel is a channel: {mix_ch.is_channel}')\n",
    "print(f'The mixed unitary channel is always unital: {mix_ch.is_unital}')"
   ]
  },
  {
   "cell_type": "markdown",
   "metadata": {},
   "source": [
    "## Example\n",
    "\n",
    "In 3-d, a unital channel may not be a mixed unitary channel.\n",
    "\n",
    "> Example 4.3 in (Watrous, John. The theory of quantum information. Cambridge university press, 2018.)"
   ]
  },
  {
   "cell_type": "code",
   "execution_count": 10,
   "metadata": {},
   "outputs": [],
   "source": [
    "A1 = np.array([\n",
    "    [0,0,0],\n",
    "    [0,0,1/np.sqrt(2)],\n",
    "    [0,-1/np.sqrt(2),0],\n",
    "])\n",
    "A2 = np.array([\n",
    "    [0,0,1/np.sqrt(2)],\n",
    "    [0,0,0],\n",
    "    [-1/np.sqrt(2),0,0],\n",
    "])\n",
    "A3 = np.array([\n",
    "    [0,1/np.sqrt(2),0],\n",
    "    [-1/np.sqrt(2),0,0],\n",
    "    [0,0,0],\n",
    "])\n",
    "\n",
    "Choi1 = QuantumNetwork(A1, (3,3), is_pure=True)*3\n",
    "Choi2 = QuantumNetwork(A2, (3,3), is_pure=True)*3\n",
    "Choi3 = QuantumNetwork(A3, (3,3), is_pure=True)*3"
   ]
  },
  {
   "cell_type": "markdown",
   "metadata": {},
   "source": [
    "The three channels are pure but not unital. Which means they are not unitary."
   ]
  },
  {
   "cell_type": "code",
   "execution_count": 11,
   "metadata": {},
   "outputs": [
    {
     "name": "stdout",
     "output_type": "stream",
     "text": [
      "False\n",
      "False\n",
      "False\n"
     ]
    }
   ],
   "source": [
    "print(Choi1.is_unital)\n",
    "print(Choi2.is_unital)\n",
    "print(Choi3.is_unital)"
   ]
  },
  {
   "cell_type": "markdown",
   "metadata": {},
   "source": [
    "However, the mixture of the three operators are unital.\n",
    "As the matrices are orthogonal, they are the extreme points of the convex set of the unital channels.\n",
    "Therefore, this mixed channel is not a mixed unitary channel."
   ]
  },
  {
   "cell_type": "code",
   "execution_count": 12,
   "metadata": {},
   "outputs": [
    {
     "name": "stdout",
     "output_type": "stream",
     "text": [
      "True\n"
     ]
    }
   ],
   "source": [
    "Choi = Choi1/3 + Choi2/3 + Choi3/3\n",
    "\n",
    "print(Choi.is_unital)"
   ]
  },
  {
   "cell_type": "code",
   "execution_count": null,
   "metadata": {},
   "outputs": [],
   "source": []
  }
 ],
 "metadata": {
  "kernelspec": {
   "display_name": "qibo",
   "language": "python",
   "name": "python3"
  },
  "language_info": {
   "codemirror_mode": {
    "name": "ipython",
    "version": 3
   },
   "file_extension": ".py",
   "mimetype": "text/x-python",
   "name": "python",
   "nbconvert_exporter": "python",
   "pygments_lexer": "ipython3",
   "version": "3.11.5"
  }
 },
 "nbformat": 4,
 "nbformat_minor": 2
}
